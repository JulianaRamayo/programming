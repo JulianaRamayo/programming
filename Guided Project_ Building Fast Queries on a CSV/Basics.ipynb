{
 "cells": [
  {
   "cell_type": "markdown",
   "metadata": {},
   "source": [
    "## Part 1. The Dataset"
   ]
  },
  {
   "cell_type": "code",
   "execution_count": 6,
   "metadata": {},
   "outputs": [
    {
     "name": "stdout",
     "output_type": "stream",
     "text": [
      "['Id', 'Company', 'Product', 'TypeName', 'Inches', 'ScreenResolution', 'Cpu', 'Ram', 'Memory', 'Gpu', 'OpSys', 'Weight', 'Price']\n",
      "['6571244', 'Apple', 'MacBook Pro', 'Ultrabook', '13.3', 'IPS Panel Retina Display 2560x1600', 'Intel Core i5 2.3GHz', '8GB', '128GB SSD', 'Intel Iris Plus Graphics 640', 'macOS', '1.37kg', '1339']\n",
      "['7287764', 'Apple', 'Macbook Air', 'Ultrabook', '13.3', '1440x900', 'Intel Core i5 1.8GHz', '8GB', '128GB Flash Storage', 'Intel HD Graphics 6000', 'macOS', '1.34kg', '898']\n",
      "['3362737', 'HP', '250 G6', 'Notebook', '15.6', 'Full HD 1920x1080', 'Intel Core i5 7200U 2.5GHz', '8GB', '256GB SSD', 'Intel HD Graphics 620', 'No OS', '1.86kg', '575']\n",
      "['9722156', 'Apple', 'MacBook Pro', 'Ultrabook', '15.4', 'IPS Panel Retina Display 2880x1800', 'Intel Core i7 2.7GHz', '16GB', '512GB SSD', 'AMD Radeon Pro 455', 'macOS', '1.83kg', '2537']\n",
      "['8550527', 'Apple', 'MacBook Pro', 'Ultrabook', '13.3', 'IPS Panel Retina Display 2560x1600', 'Intel Core i5 3.1GHz', '8GB', '256GB SSD', 'Intel Iris Plus Graphics 650', 'macOS', '1.37kg', '1803']\n"
     ]
    }
   ],
   "source": [
    "# Import the csv module.\n",
    "import csv\n",
    "\n",
    "# Read the laptops.csv file. The encoding is UTF-8,\n",
    "# so you don't need to worry about it.\n",
    "with open('laptops.csv') as f:\n",
    "    reader = csv.reader(f)\n",
    "    rows = list(reader)\n",
    "    # Assign the first row to a variable named header.\n",
    "    header = rows[0]\n",
    "    # Assign the remaining rows to a variable named rows.\n",
    "    rows = rows[1:]\n",
    "\n",
    "# Print the value of header.\n",
    "print(header)\n",
    "\n",
    "# Print the first five rows in rows.\n",
    "for i in range(5):\n",
    "    print(rows[i])"
   ]
  },
  {
   "cell_type": "markdown",
   "metadata": {},
   "source": [
    "## Inventory Class"
   ]
  },
  {
   "cell_type": "code",
   "execution_count": 9,
   "metadata": {},
   "outputs": [
    {
     "name": "stdout",
     "output_type": "stream",
     "text": [
      "['Id', 'Company', 'Product', 'TypeName', 'Inches', 'ScreenResolution', 'Cpu', 'Ram', 'Memory', 'Gpu', 'OpSys', 'Weight', 'Price']\n",
      "1303\n"
     ]
    }
   ],
   "source": [
    "# Create a class named Inventory.\n",
    "class Inventory():\n",
    "    # Define the constructor (__init__() method) with \n",
    "    #two arguments: self and csv_filename.\n",
    "    def __init__(self, csv_filename):\n",
    "        #Read the CSV file provided in csv_filename. \n",
    "        #We will assume that the encoding is UTF-8, \n",
    "        #so you don't need to worry about it.\n",
    "        with open (csv_filename) as f:\n",
    "            reader = csv.reader(f)\n",
    "            rows = list(reader)\n",
    "            # Assign the first row to self.header and the remaining \n",
    "            # rows to self.rows.\n",
    "        self.header = rows[0]\n",
    "        self.rows = rows[1:]\n",
    "        # Convert the price of each row to an integer. \n",
    "        #The price is the last column.\n",
    "        for row in self.rows:\n",
    "            row[-1] = int(row[-1])\n",
    "\n",
    "# Test your class by creating an instance of Inventory using \n",
    "# 'laptops.csv' as argument.\n",
    "laptops = Inventory('laptops.csv')\n",
    "\n",
    "# Print the headers by printing the value of the header property.\n",
    "print(laptops.header)\n",
    "\n",
    "# Using the len() function, print the number of rows. \n",
    "# You should have 1303 rows.\n",
    "print(len(laptops.rows))"
   ]
  },
  {
   "cell_type": "markdown",
   "metadata": {},
   "source": [
    "## Finding a Laptop From the Id"
   ]
  },
  {
   "cell_type": "code",
   "execution_count": 13,
   "metadata": {},
   "outputs": [
    {
     "name": "stdout",
     "output_type": "stream",
     "text": [
      "['3362737', 'HP', '250 G6', 'Notebook', '15.6', 'Full HD 1920x1080', 'Intel Core i5 7200U 2.5GHz', '8GB', '256GB SSD', 'Intel HD Graphics 620', 'No OS', '1.86kg', 575]\n",
      "None\n"
     ]
    }
   ],
   "source": [
    "class Inventory():\n",
    "    def __init__(self, csv_filename):\n",
    "        with open (csv_filename) as f:\n",
    "            reader = csv.reader(f)\n",
    "            rows = list(reader)\n",
    "        self.header = rows[0]\n",
    "        self.rows = rows[1:]\n",
    "        for row in self.rows:\n",
    "            row[-1] = int(row[-1])\n",
    "    \n",
    "    #Inside the Inventory class, create a method get_laptop_from_id()\n",
    "    #with two arguments: self and laptop_id.\n",
    "    def get_laptop_from_id(self, laptop_id):\n",
    "        #Using a for loop over self.rows, identify if there is a row\n",
    "        #with whose laptop id is the same as laptop_id.\n",
    "        for row in self.rows:\n",
    "            if row[0] == laptop_id:\n",
    "                # Return that row if it was found or None if no \n",
    "                #laptop has the given identifier.\n",
    "                return row\n",
    "        return None\n",
    "        \n",
    "# Test your class by creating an instance of Inventory using \n",
    "#'laptops.csv' as argument.\n",
    "laptops = Inventory('laptops.csv')\n",
    "\n",
    "# Call get_laptop_from_id() by giving '3362737' as argument and print \n",
    "# the result. It should find a matching laptop.\n",
    "call1 = laptops.get_laptop_from_id('3362737')\n",
    "print(call1)\n",
    "\n",
    "# Call get_laptop_from_id() by giving '3362736' as argument and print\n",
    "# the result. It should not find a laptop.\n",
    "call2 = laptops.get_laptop_from_id('3362736')\n",
    "print(call2)"
   ]
  },
  {
   "cell_type": "markdown",
   "metadata": {},
   "source": [
    "# Improving Id lookups"
   ]
  },
  {
   "cell_type": "code",
   "execution_count": 16,
   "metadata": {},
   "outputs": [
    {
     "name": "stdout",
     "output_type": "stream",
     "text": [
      "['3362737', 'HP', '250 G6', 'Notebook', '15.6', 'Full HD 1920x1080', 'Intel Core i5 7200U 2.5GHz', '8GB', '256GB SSD', 'Intel HD Graphics 620', 'No OS', '1.86kg', 575]\n",
      "None\n"
     ]
    }
   ],
   "source": [
    "class Inventory():\n",
    "    def __init__(self, csv_filename):\n",
    "        with open (csv_filename) as f:\n",
    "            reader = csv.reader(f)\n",
    "            rows = list(reader)\n",
    "        self.header = rows[0]\n",
    "        self.rows = rows[1:]\n",
    "        for row in self.rows:\n",
    "            row[-1] = int(row[-1])\n",
    "        # At the end of the __init__() method, assign an empty \n",
    "        # dictionary to self.id_to_row.\n",
    "        self.id_to_row = {}\n",
    "        #Loop over all rows and assign that row to the dictionary.\n",
    "        # Use the row id (the first element in a row) as the key and\n",
    "        #the whole row as the value.\n",
    "        for row in self.rows:\n",
    "            self.id_to_row[row[0]] = row\n",
    "\n",
    "    def get_laptop_from_id(self, laptop_id):\n",
    "        for row in self.rows:\n",
    "            if row[0] == laptop_id:\n",
    "                return row\n",
    "        return None\n",
    "    \n",
    "    # Create a new method named get_laptop_from_id_fast() with\n",
    "    # arguments: self and laptop_id.\n",
    "    def get_laptop_from_id_fast(self, laptop_id):\n",
    "        # Checking whether the given id is in self.id_to_row.\n",
    "        if laptop_id in self.id_to_row:\n",
    "            # If it is, then return the corresponding row. Otherwise,\n",
    "            # return None.\n",
    "            return self.id_to_row[laptop_id]\n",
    "        return None\n",
    "\n",
    "# Test your class by creating an instance of Inventory using\n",
    "# 'laptops.csv' as argument.\n",
    "laptops = Inventory('laptops.csv')\n",
    "\n",
    "# all get_laptop_from_id_fast() by giving '3362737' as argument and\n",
    "# print the result. It should find a matching laptop.\n",
    "call1 = laptops.get_laptop_from_id_fast('3362737')\n",
    "print(call1)\n",
    "call2 = laptops.get_laptop_from_id_fast('3362736')\n",
    "print(call2)"
   ]
  },
  {
   "cell_type": "markdown",
   "metadata": {},
   "source": [
    "# Comparing the Performance"
   ]
  },
  {
   "cell_type": "code",
   "execution_count": 18,
   "metadata": {},
   "outputs": [
    {
     "name": "stdout",
     "output_type": "stream",
     "text": [
      "Comparison\n",
      "Total time no dict:  1.369755506515503\n",
      "Total time dict:  0.0057833194732666016\n"
     ]
    }
   ],
   "source": [
    "# Import the time module.\n",
    "import time\n",
    "\n",
    "# Import the random module.\n",
    "import random\n",
    "\n",
    "# Generate a list named ids with 10,000 random values between \"1000000\"\n",
    "# and \"9999999\" (this is the id range). Note the use of strings rather\n",
    "# than integers. This is because the IDs in the CSV files are read a\n",
    "# strings, not integers. You can generate these by generating integers\n",
    "# and converting them to strings using the str() function.\n",
    "ids = [str(random.randint(1000000, 9999999)) for _ in range(10000)]\n",
    "\n",
    "# Create an instance of Inventory by giving 'laptops.csv' as argument.\n",
    "laptops = Inventory('laptops.csv')\n",
    "\n",
    "# Initialize a variable named total_time_no_dict and set it to 0.\n",
    "# This variable will aggregate the times of calling get_laptop_from_id().\n",
    "total_time_no_dict = 0\n",
    "\n",
    "# For each identifier in ids do:\n",
    "for i in ids:\n",
    "    # Assign the value of time.time() to a variable named start.\n",
    "    start = time.time()\n",
    "    # Call the get_laptop_from_id() function on the current identifier.\n",
    "    laptops.get_laptop_from_id(i)\n",
    "    end = time.time()\n",
    "    # Add the elapsed time, end - start, to total_time_no_dict.\n",
    "    total_time_no_dict += end - start\n",
    "\n",
    "# Initialize a variable named total_time_dict and set it to 0.\n",
    "# This variable will aggregate the times of calling \n",
    "# get_laptop_from_id_fast().\n",
    "total_time_dict = 0\n",
    "\n",
    "# For each identifier in ids do:\n",
    "for i in ids:\n",
    "    # Assign the value of time.time() to a variable named start.\n",
    "    start = time.time()\n",
    "    # Call the get_laptop_from_id_fast() function on the current identifier.\n",
    "    laptops.get_laptop_from_id_fast(i)\n",
    "    # Assign the value of time.time() to a variable named end.\n",
    "    end = time.time()\n",
    "    # Add the elapsed time, end - start, to total_time_dict.\n",
    "    total_time_dict += end - start\n",
    "\n",
    "# Print the values of total_time_no_dict and total_time_dict.\n",
    "print('Comparison')\n",
    "print('Total time no dict: ', total_time_no_dict)\n",
    "print('Total time dict: ', total_time_dict)"
   ]
  },
  {
   "cell_type": "markdown",
   "metadata": {},
   "source": [
    "# Two Laptop Promotion"
   ]
  },
  {
   "cell_type": "code",
   "execution_count": 19,
   "metadata": {},
   "outputs": [
    {
     "name": "stdout",
     "output_type": "stream",
     "text": [
      "True\n",
      "False\n"
     ]
    }
   ],
   "source": [
    "class Inventory():\n",
    "    def __init__(self, csv_filename):\n",
    "        with open (csv_filename) as f:\n",
    "            reader = csv.reader(f)\n",
    "            rows = list(reader)\n",
    "        self.header = rows[0]\n",
    "        self.rows = rows[1:]\n",
    "        for row in self.rows:\n",
    "            row[-1] = int(row[-1])\n",
    "        self.id_to_row = {}\n",
    "        for row in self.rows:\n",
    "            self.id_to_row[row[0]] = row\n",
    "\n",
    "    def get_laptop_from_id(self, laptop_id):\n",
    "        for row in self.rows:\n",
    "            if row[0] == laptop_id:\n",
    "                return row\n",
    "        return None\n",
    "\n",
    "    def get_laptop_from_id_fast(self, laptop_id):\n",
    "        if laptop_id in self.id_to_row:\n",
    "            return self.id_to_row[laptop_id]\n",
    "        return None\n",
    "    \n",
    "    # Create a method named check_promotion_dollars() that takes two\n",
    "    # arguments: self and dollars.\n",
    "    def check_promotion_dollars(self, dollars):\n",
    "        # Loop over all rows to check if there exists a laptop whose\n",
    "        # price is exactly dollars. Return True if you find one.\n",
    "        for row in self.rows:\n",
    "            if row[-1] == dollars:\n",
    "                return True\n",
    "        # Using a double for loop, iterate over all pairs of rows\n",
    "        # (not necessarily distinct because we can buy the same laptop\n",
    "        # twice) and check if there is a pair whose prices adds up to\n",
    "        # exactly dollars. Return True if you find one.\n",
    "        for row1 in self.rows:\n",
    "            for row2 in self.rows:\n",
    "                if (row1[-1] + row2[-1]) == dollars:\n",
    "                    return True\n",
    "        # At the end of the function, return False to indicate that it\n",
    "        # is impossible to spend exactly dollars by purchasing at most\n",
    "        # two laptops.\n",
    "        return False\n",
    "\n",
    "# Test your class by creating an instance of Inventory by giving\n",
    "# 'laptops.csv' as argument.\n",
    "laptops = Inventory('laptops.csv')\n",
    "\n",
    "# Call check_promotion_dollars() by giving 1000 as argument and print\n",
    "# the result. It should find a solution.\n",
    "call1 = laptops.check_promotion_dollars(1000)\n",
    "print(call1)\n",
    "\n",
    "# Call check_promotion_dollars() by giving 442 as argument and print\n",
    "# the result. It should not find a solution.\n",
    "call2 = laptops.check_promotion_dollars(442)\n",
    "print(call2)"
   ]
  },
  {
   "cell_type": "markdown",
   "metadata": {},
   "source": [
    "# Optimizing Laptop Promotion"
   ]
  },
  {
   "cell_type": "code",
   "execution_count": 20,
   "metadata": {},
   "outputs": [
    {
     "name": "stdout",
     "output_type": "stream",
     "text": [
      "True\n",
      "False\n"
     ]
    }
   ],
   "source": [
    "class Inventory():\n",
    "    def __init__(self, csv_filename):\n",
    "        with open (csv_filename) as f:\n",
    "            reader = csv.reader(f)\n",
    "            rows = list(reader)\n",
    "        self.header = rows[0]\n",
    "        self.rows = rows[1:]\n",
    "        for row in self.rows:\n",
    "            row[-1] = int(row[-1])\n",
    "        self.id_to_row = {}\n",
    "        for row in self.rows:\n",
    "            self.id_to_row[row[0]] = row\n",
    "        #At the end of the __init__() method, assign an empty set to\n",
    "        #self.prices.\n",
    "        self.prices = []\n",
    "        # Loop over all rows and add the price contained in that row\n",
    "        # to self.prices.\n",
    "        for row in self.rows:\n",
    "            self.prices.append(row[-1])\n",
    "\n",
    "    def get_laptop_from_id(self, laptop_id):\n",
    "        for row in self.rows:\n",
    "            if row[0] == laptop_id:\n",
    "                return row\n",
    "        return None\n",
    "\n",
    "    def get_laptop_from_id_fast(self, laptop_id):\n",
    "        if laptop_id in self.id_to_row:\n",
    "            return self.id_to_row[laptop_id]\n",
    "        return None\n",
    "\n",
    "    def check_promotion_dollars(self, dollars):\n",
    "        for row in self.rows:\n",
    "            if row[-1] == dollars:\n",
    "                return True\n",
    "        for row1 in self.rows:\n",
    "            for row2 in self.rows:\n",
    "                if (row1[-1] + row2[-1]) == dollars:\n",
    "                    return True\n",
    "        return False\n",
    "    \n",
    "    # Create a method named check_promotion_dollars_fast() that takes\n",
    "    # two arguments: self and dollars.\n",
    "    def check_promotion_dollars_fast(self, dollars):\n",
    "        # Use the self.prices set to check whether there is a laptop\n",
    "        # whose cost is exactly dollars. Return True if it is the case.\n",
    "        if dollars in self.prices:\n",
    "            return True\n",
    "        # Using the technique we've learned in the previous lesson to\n",
    "        # check whether two values in self.prices add up to exactly\n",
    "        #dollar. Return True if it is the case.\n",
    "        for price in self.prices:\n",
    "            if dollars - price in self.prices:\n",
    "                return True\n",
    "        # At the end of the function, return False to indicate that it\n",
    "        # is impossible to spend exactly dollars by purchasing at most\n",
    "        # two laptops.\n",
    "        return False\n",
    "\n",
    "# Test your class by creating an instance of Inventory by giving\n",
    "# 'laptops.csv' as argument.\n",
    "laptops = Inventory('laptops.csv')\n",
    "\n",
    "# Call check_promotion_dollars_fast() by giving 1000 as argument and\n",
    "# print the result. It should find a solution.\n",
    "call1 = laptops.check_promotion_dollars_fast(1000)\n",
    "print(call1)\n",
    "\n",
    "# Call check_promotion_dollars_fast() by giving 442 as argument and\n",
    "# print the result. It should not find a solution.\n",
    "call2 = laptops.check_promotion_dollars_fast(442)\n",
    "print(call2)"
   ]
  },
  {
   "cell_type": "markdown",
   "metadata": {},
   "source": [
    "# Comparing Promotion Functions"
   ]
  },
  {
   "cell_type": "code",
   "execution_count": 22,
   "metadata": {},
   "outputs": [
    {
     "name": "stdout",
     "output_type": "stream",
     "text": [
      "Comparison\n",
      "total time no set: 3.2686831951141357\n",
      "total time set: 0.3289973735809326\n"
     ]
    }
   ],
   "source": [
    "# Generate a list named prices with 100 random values between 100 and\n",
    "# 5,000.\n",
    "prices = [random.randint(100, 5000) for _ in range(100)]\n",
    "\n",
    "# Create an instance of Inventory by giving 'laptops.csv' as argument.\n",
    "laptops = Inventory('laptops.csv')\n",
    "\n",
    "# Initialize a variable named total_time_no_set and set it to 0. This\n",
    "# variable will aggregate the times of calling check_promotion_dollars().\n",
    "total_time_no_set = 0\n",
    "# For each value in the prices do:\n",
    "for value in prices:\n",
    "    # Assign the value of time.time() to a variable named start.\n",
    "    start = time.time()\n",
    "    # Call the check_promotion_dollars() function on the current price.\n",
    "    laptops.check_promotion_dollars(value)\n",
    "    # Assign the value of time.time() to a variable named end.\n",
    "    end = time.time()\n",
    "    # Add the elapsed time, end - start, to total_time_no_set.\n",
    "    total_time_no_set += end - start\n",
    "\n",
    "# Initialize a variable named total_time_set and set it to 0.\n",
    "# This variable will aggregate the times of calling\n",
    "# check_promotion_dollars_fast().\n",
    "total_time_set = 0\n",
    "# For each value in the prices do:\n",
    "for value in prices:\n",
    "    # Assign the value of time.time() to a variable named start.\n",
    "    start = time.time()\n",
    "    # Call the check_promotion_dollars_fast() function on the current\n",
    "    # price.\n",
    "    laptops.check_promotion_dollars_fast(value)\n",
    "    # Assign the value of time.time() to a variable named end.\n",
    "    end = time.time()\n",
    "    # Add the elapsed time, end - start, to total_time_set.\n",
    "    total_time_set += end - start\n",
    "    \n",
    "\n",
    "# Print the values of total_time_no_set and total_time_set.\n",
    "print('Comparison')\n",
    "print('total time no set:', total_time_no_set)\n",
    "print('total time set:', total_time_set)"
   ]
  },
  {
   "cell_type": "markdown",
   "metadata": {},
   "source": [
    "# Finding Laptops Within a Budget"
   ]
  },
  {
   "cell_type": "code",
   "execution_count": 30,
   "metadata": {},
   "outputs": [
    {
     "name": "stdout",
     "output_type": "stream",
     "text": [
      "683\n",
      "-1\n"
     ]
    }
   ],
   "source": [
    "def row_price(row):\n",
    "    return row[-1]\n",
    "\n",
    "class Inventory():\n",
    "    def __init__(self, csv_filename):\n",
    "        with open (csv_filename) as f:\n",
    "            reader = csv.reader(f)\n",
    "            rows = list(reader)\n",
    "        self.header = rows[0]\n",
    "        self.rows = rows[1:]\n",
    "        for row in self.rows:\n",
    "            row[-1] = int(row[-1])\n",
    "        self.id_to_row = {}\n",
    "        for row in self.rows:\n",
    "            self.id_to_row[row[0]] = row\n",
    "        self.prices = []\n",
    "        for row in self.rows:\n",
    "            self.prices.append(row[-1])\n",
    "        # At the end of the __init__() method, use the sorted()\n",
    "        # function to sort the rows by price and assign the result to\n",
    "        # self.rows_by_price.\n",
    "        self.rows_by_price = sorted(self.rows, key=row_price)\n",
    "\n",
    "    def get_laptop_from_id(self, laptop_id):\n",
    "        for row in self.rows:\n",
    "            if row[0] == laptop_id:\n",
    "                return row\n",
    "        return None\n",
    "\n",
    "    def get_laptop_from_id_fast(self, laptop_id):\n",
    "        if laptop_id in self.id_to_row:\n",
    "            return self.id_to_row[laptop_id]\n",
    "        return None\n",
    "\n",
    "    def check_promotion_dollars(self, dollars):\n",
    "        for row in self.rows:\n",
    "            if row[-1] == dollars:\n",
    "                return True\n",
    "        for row1 in self.rows:\n",
    "            for row2 in self.rows:\n",
    "                if (row1[-1] + row2[-1]) == dollars:\n",
    "                    return True\n",
    "        return False\n",
    "\n",
    "    def check_promotion_dollars_fast(self, dollars):\n",
    "        if dollars in self.prices:\n",
    "            return True\n",
    "        for price in self.prices:\n",
    "            if dollars - price in self.prices:\n",
    "                return True\n",
    "        return False\n",
    "    \n",
    "    # Implement a method named find_first_laptop_more_expensive() that\n",
    "    # is based on the binary search algorithm. This method should take\n",
    "    # two arguments: self and price. It should return the index of the\n",
    "    # first row in self.rows_by_price whose price is higher than price.\n",
    "    # Return -1 if there is no such index.\n",
    "    def find_laptop_with_price(self, target_price):\n",
    "        range_start = 0                                   \n",
    "        range_end = len(self.rows_by_price) - 1                       \n",
    "        while range_start < range_end:\n",
    "            range_middle = (range_end + range_start) // 2  \n",
    "            value = self.rows_by_price[range_middle][-1]\n",
    "            if value == target_price:                            \n",
    "                return range_middle                        \n",
    "            elif value < target_price:                           \n",
    "                range_start = range_middle + 1             \n",
    "            else:                                          \n",
    "                range_end = range_middle - 1 \n",
    "        if self.rows_by_price[range_start][-1] != target_price:                  \n",
    "            return -1                                      \n",
    "        return range_start\n",
    "    \n",
    "    def find_first_laptop_more_expensive(self, target_price): # Step 2\n",
    "        range_start = 0                                   \n",
    "        range_end = len(self.rows_by_price) - 1                   \n",
    "        while range_start < range_end:\n",
    "            range_middle = (range_end + range_start) // 2  \n",
    "            price = self.rows_by_price[range_middle][-1]\n",
    "            if price > target_price:\n",
    "                range_end = range_middle\n",
    "            else:\n",
    "                range_start = range_middle + 1\n",
    "        if self.rows_by_price[range_start][-1] <= target_price:                  \n",
    "            return -1                                   \n",
    "        return range_start\n",
    "\n",
    "# Test your class by creating an instance of Inventory by giving\n",
    "# 'laptops.csv' as argument.\n",
    "laptops = Inventory('laptops.csv')\n",
    "\n",
    "# Call find_first_laptop_more_expensive() by giving 1000 as argument\n",
    "# and print the result. It should find the index 683.\n",
    "call1 = laptops.find_first_laptop_more_expensive(1000)\n",
    "print(call1)\n",
    "\n",
    "# Call find_first_laptop_more_expensive() by giving 10000 as argument\n",
    "# and print the result. It should not find a solution and return -1.\n",
    "call2 = laptops.find_first_laptop_more_expensive(10000)\n",
    "print(call2)"
   ]
  },
  {
   "cell_type": "code",
   "execution_count": null,
   "metadata": {},
   "outputs": [],
   "source": []
  }
 ],
 "metadata": {
  "kernelspec": {
   "display_name": "Python 3",
   "language": "python",
   "name": "python3"
  },
  "language_info": {
   "codemirror_mode": {
    "name": "ipython",
    "version": 3
   },
   "file_extension": ".py",
   "mimetype": "text/x-python",
   "name": "python",
   "nbconvert_exporter": "python",
   "pygments_lexer": "ipython3",
   "version": "3.8.2"
  }
 },
 "nbformat": 4,
 "nbformat_minor": 2
}
