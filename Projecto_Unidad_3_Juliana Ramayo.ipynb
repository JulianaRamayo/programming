{
  "cells": [
    {
      "cell_type": "markdown",
      "metadata": {
        "id": "-kDli25HbS1v"
      },
      "source": [
        "## Unit 3 Project.\n",
        "Arguments and recusivity.\n",
        "Using what you have learnt from making functions, paramaters, *args, kwargs or recursivity. \n",
        "Do the following exercises.\n",
        "\n"
      ]
    },
    {
      "cell_type": "markdown",
      "metadata": {
        "id": "dpb6EkJzbiKd"
      },
      "source": [
        "Exercise # 1\n",
        "\n",
        "Create a function that will sum two numbers and return their value and then print it\n"
      ]
    },
    {
      "cell_type": "code",
      "execution_count": 45,
      "metadata": {
        "id": "kqC3yqCFb1dm"
      },
      "outputs": [
        {
          "name": "stdout",
          "output_type": "stream",
          "text": [
            "calling the function for the first time\n",
            "13\n",
            "calling the function for the second time\n",
            "18\n"
          ]
        }
      ],
      "source": [
        "# Create function to sum 2 numbers and return their value\n",
        "def sum2 (a,b): #defining the function with two arguments\n",
        "    result = a + b #assigning the sum a name to print it\n",
        "    return result #return the result\n",
        "\n",
        "#call function\n",
        "print(\"calling the function for the first time\")\n",
        "addition = sum2(5, 8)\n",
        "# print value\n",
        "print(addition)\n",
        "\n",
        "#other way to print the value from the function\n",
        "print(\"calling the function for the second time\")\n",
        "print(sum2(8,10))\n"
      ]
    },
    {
      "cell_type": "markdown",
      "metadata": {
        "id": "8TFH8BAscBlN"
      },
      "source": [
        "Exercise # 2\n",
        "\n",
        "Create a nested function to build the following:\n",
        "Using the following lists\n",
        "fruits = (\"apple\", \"cherry\", \"strawberry\")\n",
        "adjectives = (\"big\",\"red\", \"juicy\")\n",
        "\n",
        "Build a function or functions to print:\n",
        "- big apple, red apple, juicy apple,\n",
        "- big cherry, red cherry, juicy cherry,\n",
        "- big strawberry, red strawberry, juicy strawberry,\n",
        "\n"
      ]
    },
    {
      "cell_type": "code",
      "execution_count": 9,
      "metadata": {
        "colab": {
          "base_uri": "https://localhost:8080/"
        },
        "id": "46-IRHkedoe1",
        "outputId": "3e35535d-704f-4463-db83-519b80b869aa"
      },
      "outputs": [
        {
          "name": "stdout",
          "output_type": "stream",
          "text": [
            "big apple\n",
            "red apple\n",
            "juicy apple\n",
            "big cherry\n",
            "red cherry\n",
            "juicy cherry\n",
            "big strawberry\n",
            "red strawberry\n",
            "juicy strawberry\n"
          ]
        }
      ],
      "source": [
        "# Create your function here\n",
        "def combinations (fruits, adjectives): #defining function\n",
        "    for fruit in fruits: #loop so that for every element in list happens the following:\n",
        "        for adjective in adjetives: #another for loop for every adjective in the list happens the following:\n",
        "            print (adjective, fruit) #print the adjectives and fruits\n",
        "\n",
        "\n",
        "fruits = (\"apple\",\"cherry\",\"strawberry\") #declaring the fruits list\n",
        "adjetives = (\"big\",\"red\",\"juicy\") #declaring the adjectives list\n",
        "\n",
        "combinations(fruits, adjetives) #call the function"
      ]
    },
    {
      "cell_type": "markdown",
      "metadata": {
        "id": "kG9SMDEudsK2"
      },
      "source": [
        "Exercise # 3\n",
        "\n",
        "Create a function to multiply a variable list of numbers. \n",
        "\n",
        "For example: a list of 5 number or a list of 10 numbers.\n"
      ]
    },
    {
      "cell_type": "code",
      "execution_count": 3,
      "metadata": {
        "id": "cIbngmC7e5FY"
      },
      "outputs": [
        {
          "name": "stdout",
          "output_type": "stream",
          "text": [
            "120\n",
            "3628800\n",
            "-336\n"
          ]
        }
      ],
      "source": [
        "#Create  function to multiply any lenght list of numbers and print their results\n",
        "def multiply (list): #defining function with list as an argument\n",
        "    total = 1 #counter set in 1 to store the result\n",
        "    for number in list: #loop for every number in the list\n",
        "        total *= number #multiply every number\n",
        "    return total    #return the result\n",
        "\n",
        "#calling the function with a list of five numbers\n",
        "print(multiply([1,2,3,4,5]))\n",
        "#calling the function with a list of ten numbers\n",
        "print(multiply([1,2,3,4,5,6,7,8,9,10]))\n",
        "#calling the function with a list of positive and negative numbers\n",
        "print(multiply([8, 2, 3, -1, 7]))\n",
        "\n"
      ]
    },
    {
      "cell_type": "markdown",
      "metadata": {
        "id": "UK7oNpa4fEHO"
      },
      "source": [
        "Exercise # 4\n",
        "\n",
        "Create a function to print the data type for each lenght arguments being passed.\n",
        "For example: parameter list (1, \"banana\", [\"cherry\",\"mango\"],True)"
      ]
    },
    {
      "cell_type": "code",
      "execution_count": 24,
      "metadata": {
        "colab": {
          "base_uri": "https://localhost:8080/"
        },
        "id": "TkyFMVvRhWfw",
        "outputId": "06540dd1-2561-469a-f398-34034121bc36"
      },
      "outputs": [
        {
          "name": "stdout",
          "output_type": "stream",
          "text": [
            "1 <class 'int'>\n",
            "banana <class 'str'>\n",
            "['cherry', 'mango'] <class 'list'>\n",
            "True <class 'bool'>\n"
          ]
        }
      ],
      "source": [
        "# Write your function\n",
        "def data_type(list): #defining function with list as argument\n",
        "    for element in list: #for loop for every element in the list\n",
        "        print(element, type(element)) #print the element and the data type of the element using type function\n",
        "\n",
        "#calling the function\n",
        "data_type([1, \"banana\", [\"cherry\", \"mango\"], True])\n"
      ]
    },
    {
      "cell_type": "markdown",
      "metadata": {
        "id": "6UZPPscaiaX_"
      },
      "source": [
        "Exercise # 5\n",
        "\n",
        "Create a function where there are 2 names parameters. The first should be a greeting and the second a name.\n",
        "\n",
        "if the paramaters are not being passed the default values should be parameter 1 default to \"Hello\" parameter 2 should default to \"Bob\".\n"
      ]
    },
    {
      "cell_type": "code",
      "execution_count": 35,
      "metadata": {
        "id": "ZY7fKafbjJd-"
      },
      "outputs": [
        {
          "name": "stdout",
          "output_type": "stream",
          "text": [
            "Hi Bob\n",
            "Hi Juliana\n",
            "Hi Juliana\n",
            "Hello Bob\n"
          ]
        }
      ],
      "source": [
        "# Create a function here\n",
        "def hello (greeting = \"Hello\", name = \"Bob\"): #defining function with two default parameters\n",
        "    return greeting + \" \" + name #return the greeting and the name\n",
        "\n",
        "#calling the function with one parameter\n",
        "print(hello(\"Hi\"))\n",
        "#calling the function with parameters in order\n",
        "print(hello(\"Hi\", \"Juliana\"))\n",
        "#calling the function with parameters in disorder\n",
        "print(hello(name = \"Juliana\", greeting = \"Hi\"))\n",
        "#calling the function with no parameters\n",
        "print(hello())\n",
        "\n"
      ]
    },
    {
      "cell_type": "markdown",
      "metadata": {
        "id": "pHl_BYCrkLsf"
      },
      "source": [
        "Excersise # 6\n",
        "\n",
        "Create a function where you use 2 paramaters, a positional argument and a named parameter set it to True as a defaut value.\n",
        "\n",
        "Pass 2 numbers in each parameter wich you will add to a positional argument number list only if the named paramater is True.\n",
        "\n",
        "The function performs addition operation if option is True. Since the default value is True, the function returns the sum of the arguments unless option parameter is declared as False.\n",
        "\n",
        "Test your function with the following data:\n",
        "a = 10\n",
        "b = 20\n",
        "lst(10,20,30,40,50)\n",
        "Do not pass the third paramater\n",
        "\n",
        "Same as before and now pass option = False (option will be the third parameter)\n",
        "\n"
      ]
    },
    {
      "cell_type": "code",
      "execution_count": 61,
      "metadata": {
        "id": "lASPSc2ll0KQ"
      },
      "outputs": [
        {
          "name": "stdout",
          "output_type": "stream",
          "text": [
            "([20, 30, 40, 50, 60], [30, 40, 50, 60, 70])\n",
            "([], [])\n"
          ]
        }
      ],
      "source": [
        "# Write your function here\n",
        "def excersise6(a, b, *args, sum = True): #defining function\n",
        "    sum1 = [] #lista vacia para almacenar el resultado con el argumento a\n",
        "    sum2 = [] #lista vacia para almacenar el resultado con el argumento b\n",
        "    if sum == True: #if sum is True then:\n",
        "        for val in args: #for loop for every value in args\n",
        "            sum1.append(a + val) #every value in args adds a, and it is stored in sum1\n",
        "            sum2.append(b + val) #every value in args adds b, and it is stored in sum2\n",
        "    return sum1, sum2 #return the new lists\n",
        "\n",
        "#calling functions without the default parameter\n",
        "print(excersise6(10, 20, 10, 20, 30, 40, 50))\n",
        "#calling function with sum = False\n",
        "print(excersise6(10, 20, 10, 20, 30, 40, 50, sum = False))\n"
      ]
    },
    {
      "cell_type": "markdown",
      "metadata": {
        "id": "UzPuHq80l21M"
      },
      "source": [
        "Exercise # 7\n",
        "\n",
        "Creae a function to receive two paramaters, a named parameter, a positional argument and a keywaord argument.\n",
        "Call the function and print the values for each one of them\n",
        "For example:\n",
        "\n",
        "print(paramater1), print(parameter2), print(named argument),print(positional argument), print(keyword argument)"
      ]
    },
    {
      "cell_type": "code",
      "execution_count": 67,
      "metadata": {
        "id": "H44d_9wAm5Af"
      },
      "outputs": [
        {
          "name": "stdout",
          "output_type": "stream",
          "text": [
            "1 hola (10, 20, 30, 40) {'shirt': 'adidas', 'pants': 'puma'}\n"
          ]
        }
      ],
      "source": [
        "# Create function\n",
        "def print_values(a, b, *positional, **keyword): #defining function with two parameters, a positional argument and a keyword argument\n",
        "    print(a, b, positional, keyword) #print each argument\n",
        "\n",
        "#calling function with diverse data types\n",
        "print_values(1, \"hola\", 10, 20, 30, 40, shirt = \"adidas\", pants = \"puma\")\n",
        "\n"
      ]
    },
    {
      "cell_type": "markdown",
      "metadata": {
        "id": "sg-kCi0sm8bu"
      },
      "source": [
        "Excersise # 8\n",
        "\n",
        "Using recursion. Create a game that will ask the user 4 times to guess a number. if the user gueses the number print(\"You have won!\") if the user did not guess print(\"You have lost!\")\n",
        "Remember usibg recursion to do this.\n"
      ]
    },
    {
      "cell_type": "code",
      "execution_count": 32,
      "metadata": {
        "id": "pvjBDxuDoIru"
      },
      "outputs": [
        {
          "name": "stdout",
          "output_type": "stream",
          "text": [
            "This is your 1 attempt.\n",
            "Looks like this number is too high.\n",
            "This is your 2 attempt.\n",
            "Looks like this number is too low.\n",
            "This is your 3 attempt.\n",
            "Looks like this number is too low.\n",
            "This is your 4 attempt.\n",
            "Looks like this number is too low.\n",
            "Looks like you haven't guess the number. Sorry. You lost :(\n"
          ]
        }
      ],
      "source": [
        "# Write a recursive funcion here\n",
        "def guess(intento = 1): #defining function with a set attempt of 1\n",
        "    number = 4 #the number to guess is 4\n",
        "    print(\"This is your\", intento, \"attempt.\") #print the number of attempt the user is in\n",
        "    user_guess = int(input(\"Guess a number between between 1 and 10 \\^o^/: \")) #take the input from the user\n",
        "    if user_guess == number: #if the user inputs the correct number it prints the following text and ends the function\n",
        "        print(\"This is the right number! Well done <3\")\n",
        "        return\n",
        "    elif user_guess != number and intento <= 4: #if the user inputs the incorrect number and still has attempts it does the following:\n",
        "            if user_guess < number: #if the user inputs a number that is low compared to the number, it prints the message\n",
        "                print(\"Looks like this number is too low.\")\n",
        "            elif user_guess > number: ##if the user inputs a number that is high compared to the number, it prints the message\n",
        "                print(\"Looks like this number is too high.\")\n",
        "    intento += 1 #once the numbers are compared, it adds one to intento\n",
        "    if intento > 4: #if it is more than the fourth attempt then the following message is printed and ends the function\n",
        "        print(\"Looks like you haven't guess the number. Sorry. You lost :(\")\n",
        "        return\n",
        "    guess(intento) #recursion\n",
        "\n",
        "guess()\n",
        "\n"
      ]
    },
    {
      "cell_type": "markdown",
      "metadata": {
        "id": "zpKQGb1rjU39"
      },
      "source": []
    }
  ],
  "metadata": {
    "colab": {
      "collapsed_sections": [],
      "name": "Projecto Unidad 3.ipynb",
      "provenance": []
    },
    "kernelspec": {
      "display_name": "Python 3.10.5 64-bit",
      "language": "python",
      "name": "python3"
    },
    "language_info": {
      "codemirror_mode": {
        "name": "ipython",
        "version": 3
      },
      "file_extension": ".py",
      "mimetype": "text/x-python",
      "name": "python",
      "nbconvert_exporter": "python",
      "pygments_lexer": "ipython3",
      "version": "3.10.5"
    },
    "vscode": {
      "interpreter": {
        "hash": "1008137c9f4849d5b92bd1af9c25f8df25401862cbdc70b91442f4a826b7c98e"
      }
    }
  },
  "nbformat": 4,
  "nbformat_minor": 0
}
