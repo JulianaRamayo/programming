{
  "cells": [
    {
      "cell_type": "markdown",
      "metadata": {
        "id": "-kDli25HbS1v"
      },
      "source": [
        "## Unit 3 Project.\n",
        "Arguments and recusivity.\n",
        "Using what you have learnt from making functions, paramaters, *args, kwargs or recursivity. \n",
        "Do the following exercises.\n",
        "\n"
      ]
    },
    {
      "cell_type": "markdown",
      "metadata": {
        "id": "dpb6EkJzbiKd"
      },
      "source": [
        "Exercise # 1\n",
        "\n",
        "Create a function that will sum two numbers and return their value and then print it\n"
      ]
    },
    {
      "cell_type": "code",
      "execution_count": 4,
      "metadata": {
        "id": "kqC3yqCFb1dm"
      },
      "outputs": [
        {
          "name": "stdout",
          "output_type": "stream",
          "text": [
            "calling the function for the first time\n",
            "13\n",
            "calling the function for the second time\n",
            "18\n"
          ]
        }
      ],
      "source": [
        "# Create function to sum 2 numbers and return their value\n",
        "def sum (a,b): #defining the function with two arguments\n",
        "    result = a + b #assigning the sum a name to print it\n",
        "    return result #return the result\n",
        "\n",
        "#call function\n",
        "print(\"calling the function for the first time\")\n",
        "addition = sum(5, 8)\n",
        "# print value\n",
        "print(addition)\n",
        "\n",
        "#other way to print the value from the function\n",
        "print(\"calling the function for the second time\")\n",
        "print(sum(8,10))\n"
      ]
    },
    {
      "cell_type": "markdown",
      "metadata": {
        "id": "8TFH8BAscBlN"
      },
      "source": [
        "Exercise # 2\n",
        "\n",
        "Create a nested function to build the following:\n",
        "Using the following lists\n",
        "fruits = (\"apple\", \"cherry\", \"strawberry\")\n",
        "adjectives = (\"big\",\"red\", \"juicy\")\n",
        "\n",
        "Build a function or functions to print:\n",
        "- big apple, red apple, juicy apple,\n",
        "- big cherry, red cherry, juicy cherry,\n",
        "- big strawberry, red strawberry, juicy strawberry,\n",
        "\n"
      ]
    },
    {
      "cell_type": "code",
      "execution_count": 9,
      "metadata": {
        "colab": {
          "base_uri": "https://localhost:8080/"
        },
        "id": "46-IRHkedoe1",
        "outputId": "3e35535d-704f-4463-db83-519b80b869aa"
      },
      "outputs": [
        {
          "name": "stdout",
          "output_type": "stream",
          "text": [
            "big apple\n",
            "red apple\n",
            "juicy apple\n",
            "big cherry\n",
            "red cherry\n",
            "juicy cherry\n",
            "big strawberry\n",
            "red strawberry\n",
            "juicy strawberry\n"
          ]
        }
      ],
      "source": [
        "# Create your function here\n",
        "def combinations (fruits, adjectives): #defining function\n",
        "    for fruit in fruits: #loop so that for every element in list happens the following:\n",
        "        for adjective in adjetives: #another for loop for every adjective in the list happens the following:\n",
        "            print (adjective, fruit) #print the adjectives and fruits\n",
        "\n",
        "\n",
        "fruits = (\"apple\",\"cherry\",\"strawberry\") #declaring the fruits list\n",
        "adjetives = (\"big\",\"red\",\"juicy\") #declaring the adjectives list\n",
        "\n",
        "combinations(fruits, adjetives) #call the function"
      ]
    },
    {
      "cell_type": "markdown",
      "metadata": {
        "id": "kG9SMDEudsK2"
      },
      "source": [
        "Exercise # 3\n",
        "\n",
        "Create a function to multiply a variable list of numbers. \n",
        "\n",
        "For example: a list of 5 number or a list of 10 numbers.\n"
      ]
    },
    {
      "cell_type": "code",
      "execution_count": null,
      "metadata": {
        "id": "cIbngmC7e5FY"
      },
      "outputs": [],
      "source": [
        "#Create  function to multiply any lenght list of numbers and print their results\n",
        "def multiply (arg):\n",
        "    \n"
      ]
    },
    {
      "cell_type": "markdown",
      "metadata": {
        "id": "UK7oNpa4fEHO"
      },
      "source": [
        "Exercise # 4\n",
        "\n",
        "Create a function to print the data type for each lenght arguments being passed.\n",
        "For example: parameter list (1, \"banana\", [\"cherry\",\"mango\"],True)"
      ]
    },
    {
      "cell_type": "code",
      "execution_count": 13,
      "metadata": {
        "colab": {
          "base_uri": "https://localhost:8080/"
        },
        "id": "TkyFMVvRhWfw",
        "outputId": "06540dd1-2561-469a-f398-34034121bc36"
      },
      "outputs": [
        {
          "name": "stdout",
          "output_type": "stream",
          "text": [
            "1 <class 'int'>\n",
            "banana <class 'str'>\n",
            "['cherry', 'mango'] <class 'list'>\n",
            "True <class 'bool'>\n"
          ]
        }
      ],
      "source": [
        "# Write your function\n"
      ]
    },
    {
      "cell_type": "markdown",
      "metadata": {
        "id": "6UZPPscaiaX_"
      },
      "source": [
        "Exercise # 5\n",
        "\n",
        "Create a function where there are 2 names parameters. The first should be a greeting and the second a name.\n",
        "\n",
        "if the paramaters are not being passed the default values should be parameter 1 default to \"Hello\" parameter 2 should default to \"Bob\".\n"
      ]
    },
    {
      "cell_type": "code",
      "execution_count": 16,
      "metadata": {
        "id": "ZY7fKafbjJd-"
      },
      "outputs": [
        {
          "name": "stdout",
          "output_type": "stream",
          "text": [
            "Hello Bob\n",
            "Hello Bob\n"
          ]
        }
      ],
      "source": [
        "# Create a function here\n",
        "def hello (parameter1 = \"Hello\", parameter2 = \"Bob\"):\n",
        "    return parameter1 + \" \" + parameter2\n",
        "\n",
        "print(hello())\n",
        "print(hello())\n",
        "\n"
      ]
    },
    {
      "cell_type": "markdown",
      "metadata": {
        "id": "pHl_BYCrkLsf"
      },
      "source": [
        "Excersise # 6\n",
        "\n",
        "Create a function where you use 2 paramaters, a positional argument and a named parameter set it to True as a defaut value.\n",
        "\n",
        "Pass 2 numbers in each parameter wich you will add to a positional argument number list only if the named paramater is True.\n",
        "\n",
        "The function performs addition operation if option is True. Since the default value is True, the function returns the sum of the arguments unless option parameter is declared as False.\n",
        "\n",
        "Test your function with the following data:\n",
        "a = 10\n",
        "b = 20\n",
        "lst(10,20,30,40,50)\n",
        "Do not pass the third paramater\n",
        "\n",
        "Same as before and now pass option = False (option will be the third parameter)\n",
        "\n"
      ]
    },
    {
      "cell_type": "code",
      "execution_count": null,
      "metadata": {
        "id": "lASPSc2ll0KQ"
      },
      "outputs": [],
      "source": [
        "# Write your function here\n"
      ]
    },
    {
      "cell_type": "markdown",
      "metadata": {
        "id": "UzPuHq80l21M"
      },
      "source": [
        "Exercise # 7\n",
        "\n",
        "Creae a function to receive two paramaters, a named parameter, a positional argument and a keywaord argument.\n",
        "Call the function and print the values for each one of them\n",
        "For example:\n",
        "\n",
        "print(paramater1), print(parameter2), print(named argument),print(positional argument), print(keyword argument)"
      ]
    },
    {
      "cell_type": "code",
      "execution_count": null,
      "metadata": {
        "id": "H44d_9wAm5Af"
      },
      "outputs": [],
      "source": [
        "# Create function"
      ]
    },
    {
      "cell_type": "markdown",
      "metadata": {
        "id": "sg-kCi0sm8bu"
      },
      "source": [
        "Excersise # 8\n",
        "\n",
        "Using recursion. Create a game that will ask the user 4 times to guess a number. if the user gueses the number print(\"You have won!\") if the user did not guess print(\"You have lost!\")\n",
        "Remember usibg recursion to do this.\n"
      ]
    },
    {
      "cell_type": "code",
      "execution_count": null,
      "metadata": {
        "id": "pvjBDxuDoIru"
      },
      "outputs": [],
      "source": [
        "# Write a recursive funcion here"
      ]
    },
    {
      "cell_type": "markdown",
      "metadata": {
        "id": "zpKQGb1rjU39"
      },
      "source": []
    }
  ],
  "metadata": {
    "colab": {
      "collapsed_sections": [],
      "name": "Projecto Unidad 3.ipynb",
      "provenance": []
    },
    "kernelspec": {
      "display_name": "Python 3.10.5 64-bit",
      "language": "python",
      "name": "python3"
    },
    "language_info": {
      "codemirror_mode": {
        "name": "ipython",
        "version": 3
      },
      "file_extension": ".py",
      "mimetype": "text/x-python",
      "name": "python",
      "nbconvert_exporter": "python",
      "pygments_lexer": "ipython3",
      "version": "3.10.5"
    },
    "vscode": {
      "interpreter": {
        "hash": "1008137c9f4849d5b92bd1af9c25f8df25401862cbdc70b91442f4a826b7c98e"
      }
    }
  },
  "nbformat": 4,
  "nbformat_minor": 0
}
