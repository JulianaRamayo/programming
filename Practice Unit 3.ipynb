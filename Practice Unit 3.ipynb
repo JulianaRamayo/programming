{
 "cells": [
  {
   "cell_type": "markdown",
   "metadata": {},
   "source": [
    "1) Create a function that accepts any number of numbers as positional arguments and prints the sum of those numbers."
   ]
  },
  {
   "cell_type": "code",
   "execution_count": 25,
   "metadata": {},
   "outputs": [
    {
     "name": "stdout",
     "output_type": "stream",
     "text": [
      "Using the multi_add function\n",
      " 15 \n",
      "\n",
      "Using the multi_add function one more time\n",
      " 55 \n",
      "\n",
      "Using the add function\n",
      " Hola Mundo Cruel ! \n"
     ]
    }
   ],
   "source": [
    "def multi_add(*args): #se define la función. se usa * para poder usar varios argumentos\n",
    "\treturn sum(args) #se devuelve la suma de todos los argumentos con función sum \n",
    "\n",
    "print(\"Using the multi_add function\\n\", multi_add(1,2,3,4,5), \"\\n\")\n",
    "print(\"Using the multi_add function one more time\\n\", multi_add(1,2,3,4,5,6,7,8,9,10), \"\\n\")\n",
    "\n",
    "def add(*parms):\n",
    "\ttext = \"\"\n",
    "\tfor word in parms:\n",
    "\t\ttext += word + \" \"\n",
    "\treturn text\n",
    "\n",
    "print(\"Using the add function\\n\", add(\"Hola\", \"Mundo\", \"Cruel\", \"!\"))"
   ]
  },
  {
   "cell_type": "markdown",
   "metadata": {},
   "source": [
    "2) Create a function that accepts any number of strings as positional arguments and prints them in reversed order."
   ]
  },
  {
   "cell_type": "code",
   "execution_count": 26,
   "metadata": {},
   "outputs": [
    {
     "name": "stdout",
     "output_type": "stream",
     "text": [
      "Using the reverse_values function: \n",
      "['! ', 'Cruel ', 'Mundo ', 'Hola ']\n",
      "! Cruel Mundo Hola \n",
      "\n",
      "Using the reverse_values function one more time\n",
      "['Cardoso ', 'Ramayo ', 'Alejandra ', 'Juliana ']\n",
      "Cardoso Ramayo Alejandra Juliana \n"
     ]
    }
   ],
   "source": [
    "def reverse_values(*lst): #se define la función\n",
    "\treversed_lst = [] #lista vacía\n",
    "\tfor num in reversed(range(len(lst))): #por cada palabra en los parametros se va a ordenar en reversa\n",
    "\t\treversed_lst.append(lst[num] + \" \") #se une cada palabra\n",
    "\tprint(reversed_lst)\t#se imprime la lista en reversa\n",
    "\tprint(\"\".join(reversed_lst)) #se une la lista en un string y se imprime\n",
    "\n",
    "print(\"Using the reverse_values function: \")\n",
    "reverse_values(\"Hola\", \"Mundo\", \"Cruel\", \"!\")\n",
    "\n",
    "print(\"\\nUsing the reverse_values function one more time\")\n",
    "reverse_values(\"Juliana\", \"Alejandra\", \"Ramayo\", \"Cardoso\")\n",
    "\t"
   ]
  },
  {
   "cell_type": "markdown",
   "metadata": {},
   "source": [
    "3) Create a function that accepts any number of positional and keyword arguments, and that prints them back to the user. Your output should indicate which values were provided as positional arguments, and which were provided as keyword arguments."
   ]
  },
  {
   "cell_type": "code",
   "execution_count": 28,
   "metadata": {},
   "outputs": [
    {
     "name": "stdout",
     "output_type": "stream",
     "text": [
      "Using the arg_printer function\n",
      "The positional arguments are: (2, 'green')\n",
      "The keyword arguments are: {}\n",
      "\n",
      "Using the arg_printer function one more time\n",
      "The positional arguments are: ([1, 55, 8],)\n",
      "The keyword arguments are: {'height': 155, 'key': <function <lambda> at 0x00000253948EEE60>}\n"
     ]
    }
   ],
   "source": [
    "def arg_printer(*positional, **keyword):\n",
    "\tprint(f\"The positional arguments are: {positional}\")\n",
    "\tprint(f\"The keyword arguments are: {keyword}\")\n",
    "\n",
    "print(\"Using the arg_printer function\")\n",
    "arg_printer(2,  \"green\")\n",
    "print(\"\\nUsing the arg_printer function one more time\")\n",
    "arg_printer([1,  55,  8], height=155, key=lambda x: x ** 2)"
   ]
  },
  {
   "cell_type": "markdown",
   "metadata": {},
   "source": [
    "4) Create a function that accepts any number of keyword arguments, and that prints them back to the user in reversed order by value.\n",
    "For example: Juan: 3, Pedro: 1, José: 5, María: 4, Sofía: 2"
   ]
  },
  {
   "cell_type": "code",
   "execution_count": 34,
   "metadata": {},
   "outputs": [
    {
     "name": "stdout",
     "output_type": "stream",
     "text": [
      "the original argument is:  {'Juan': 3, 'Pedro': 1, 'José': 5, 'María': 4, 'Sofía': 2}\n",
      "the reversed argument is:  {'José': 5, 'María': 4, 'Juan': 3, 'Sofía': 2, 'Pedro': 1}\n",
      "\n",
      "the reversed dictionary is: \n"
     ]
    },
    {
     "data": {
      "text/plain": [
       "{'José': 5, 'María': 4, 'Juan': 3, 'Sofía': 2, 'Pedro': 1}"
      ]
     },
     "execution_count": 34,
     "metadata": {},
     "output_type": "execute_result"
    }
   ],
   "source": [
    "import operator #import operator library\n",
    "def sort_val(**keyword_arguments): #define function\n",
    "    print(\"the original argument is: \", keyword_arguments) #print the original values\n",
    "    sort = dict(sorted(keyword_arguments.items(), key = operator.itemgetter(1), reverse = True))\n",
    "    print(\"the reversed argument is: \", sort)\n",
    "\n",
    "def sort_val2(keyword_arguments, reverse = False):\n",
    "    return dict(sorted(keyword_arguments.items(), key = lambda x: x[1], reverse = reverse))\n",
    "\n",
    "sort_val(Juan=3, Pedro=1, José=5, María=4, Sofía=2)\n",
    "\n",
    "names = {\"Juan\" : 3, \"Pedro\" : 1, \"José\" : 5, \"María\" : 4, \"Sofía\" : 2}\n",
    "print(\"\\nthe reversed dictionary is: \")\n",
    "sort_val2(names, True)\n"
   ]
  },
  {
   "cell_type": "markdown",
   "metadata": {},
   "source": [
    "5) Create a function with two parameters and if there are no paramaters provided the default values should be:\n",
    "parameter1 should be \"Hola\" and parameter 2 should be \"Mundo\" and print them."
   ]
  },
  {
   "cell_type": "code",
   "execution_count": 42,
   "metadata": {},
   "outputs": [
    {
     "name": "stdout",
     "output_type": "stream",
     "text": [
      "Hola Mundo\n",
      "Ádios Mundo\n"
     ]
    }
   ],
   "source": [
    "def imprime_texto(parametro1 = \"Hola\", parametro2 = \"Mundo\"):\n",
    "    print(parametro1, parametro2)\n",
    "\n",
    "imprime_texto()\n",
    "imprime_texto(\"Ádios\")"
   ]
  },
  {
   "cell_type": "markdown",
   "metadata": {},
   "source": [
    "Complete the following Python program to compute the sum\n",
    "1 + 2 + 3 + 4 + 5 + 6 + 7 + 8 + 9 + 10 recursively:"
   ]
  },
  {
   "cell_type": "code",
   "execution_count": 45,
   "metadata": {},
   "outputs": [
    {
     "name": "stdout",
     "output_type": "stream",
     "text": [
      "55\n",
      "15\n",
      "6\n"
     ]
    }
   ],
   "source": [
    "# compute and print 1 + 2 + ... + 10\n",
    "def sum(x):\n",
    "    if x <= 1:\n",
    "        return x\n",
    "    return x + sum(x - 1)\n",
    "\n",
    "print(sum(10))\n",
    "print(sum(5))\n",
    "print(sum(3))"
   ]
  }
 ],
 "metadata": {
  "kernelspec": {
   "display_name": "Python 3.10.5 64-bit",
   "language": "python",
   "name": "python3"
  },
  "language_info": {
   "codemirror_mode": {
    "name": "ipython",
    "version": 3
   },
   "file_extension": ".py",
   "mimetype": "text/x-python",
   "name": "python",
   "nbconvert_exporter": "python",
   "pygments_lexer": "ipython3",
   "version": "3.10.5"
  },
  "orig_nbformat": 4,
  "vscode": {
   "interpreter": {
    "hash": "1008137c9f4849d5b92bd1af9c25f8df25401862cbdc70b91442f4a826b7c98e"
   }
  }
 },
 "nbformat": 4,
 "nbformat_minor": 2
}
