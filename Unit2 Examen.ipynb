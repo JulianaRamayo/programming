{
 "cells": [
  {
   "cell_type": "markdown",
   "metadata": {},
   "source": [
    "## Project UNIT 2.\n",
    "\n",
    "Using selective commands like IF, ELIF, ELSE.\n",
    "Iterations commands like FOR, WHILE. With their corresponding BREAK, Continue commands.\n",
    "Make sur to use loops and conditions. DO NOT use any other functions available in python.\n",
    "Like SORT, REVERSE, Etc.\n",
    "\n",
    "Make sure to use JUPYTER NOTEBOOK for Python in your editor of choice or install it in your python enviroment.\n",
    "https://jupyter.org/install\n",
    "Or you can use Google Colab.\n",
    "https://colab.research.google.com/?hl=es\n",
    "https://research.google.com/colaboratory/\n",
    "\n",
    "Follow the instructions.\n",
    "\n",
    "The califications will be simple. Get the programs to work. Write as much detail in the comments and explain what the code is doing. Use meaningful variables names.\n",
    "\n",
    "Write the following code for the following exercises.\n"
   ]
  },
  {
   "cell_type": "markdown",
   "metadata": {},
   "source": [
    "For example this code does the following:\n",
    "\n",
    "Reversing a number using while loop in Python"
   ]
  },
  {
   "cell_type": "code",
   "execution_count": 7,
   "metadata": {},
   "outputs": [
    {
     "name": "stdout",
     "output_type": "stream",
     "text": [
      "r 9\n",
      "rev 9\n",
      "n 678\n",
      "r 8\n",
      "rev 98\n",
      "n 67\n",
      "r 7\n",
      "rev 987\n",
      "n 6\n",
      "r 6\n",
      "rev 9876\n",
      "n 0\n",
      "Reversed number: 9876\n"
     ]
    }
   ],
   "source": [
    "# Code to reverse a number\n",
    "n = int(input(\"Enter a number: \"))\n",
    "rev = 0\n",
    "# Loop until n is not equal to 0\n",
    "while n!=0:\n",
    "    # Calculate the modulo\n",
    "    r = n%10\n",
    "    print(\"r\",r)\n",
    "    # New Reverse number\n",
    "    rev = rev * 10 + r\n",
    "    print(\"rev\", rev)\n",
    "    # Leftover number\n",
    "    n = n//10\n",
    "    print(\"n\", n)\n",
    "    \n",
    "print(\"Reversed number:\",rev)"
   ]
  },
  {
   "cell_type": "markdown",
   "metadata": {},
   "source": [
    "This other one does the following:\n",
    "\n",
    "Finding the factorial of a given number using while loop"
   ]
  },
  {
   "cell_type": "code",
   "execution_count": 8,
   "metadata": {},
   "outputs": [
    {
     "name": "stdout",
     "output_type": "stream",
     "text": [
      "r 56\n",
      "f 55\n",
      "r 3080\n",
      "f 54\n",
      "r 166320\n",
      "f 53\n",
      "r 8814960\n",
      "f 52\n",
      "r 458377920\n",
      "f 51\n",
      "r 23377273920\n",
      "f 50\n",
      "r 1168863696000\n",
      "f 49\n",
      "r 57274321104000\n",
      "f 48\n",
      "r 2749167412992000\n",
      "f 47\n",
      "r 129210868410624000\n",
      "f 46\n",
      "r 5943699946888704000\n",
      "f 45\n",
      "r 267466497609991680000\n",
      "f 44\n",
      "r 11768525894839633920000\n",
      "f 43\n",
      "r 506046613478104258560000\n",
      "f 42\n",
      "r 21253957766080378859520000\n",
      "f 41\n",
      "r 871412268409295533240320000\n",
      "f 40\n",
      "r 34856490736371821329612800000\n",
      "f 39\n",
      "r 1359403138718501031854899200000\n",
      "f 38\n",
      "r 51657319271303039210486169600000\n",
      "f 37\n",
      "r 1911320813038212450787988275200000\n",
      "f 36\n",
      "r 68807549269375648228367577907200000\n",
      "f 35\n",
      "r 2408264224428147687992865226752000000\n",
      "f 34\n",
      "r 81880983630557021391757417709568000000\n",
      "f 33\n",
      "r 2702072459808381705927994784415744000000\n",
      "f 32\n",
      "r 86466318713868214589695833101303808000000\n",
      "f 31\n",
      "r 2680455880129914652280570826140418048000000\n",
      "f 30\n",
      "r 80413676403897439568417124784212541440000000\n",
      "f 29\n",
      "r 2331996615713025747484096618742163701760000000\n",
      "f 28\n",
      "r 65295905239964720929554705324780583649280000000\n",
      "f 27\n",
      "r 1762989441479047465097977043769075758530560000000\n",
      "f 26\n",
      "r 45837725478455234092547403137995969721794560000000\n",
      "f 25\n",
      "r 1145943136961380852313685078449899243044864000000000\n",
      "f 24\n",
      "r 27502635287073140455528441882797581833076736000000000\n",
      "f 23\n",
      "r 632560611602682230477154163304344382160764928000000000\n",
      "f 22\n",
      "r 13916333455259009070497391592695576407536828416000000000\n",
      "f 21\n",
      "r 292243002560439190480445223446607104558273396736000000000\n",
      "f 20\n",
      "r 5844860051208783809608904468932142091165467934720000000000\n",
      "f 19\n",
      "r 111052340972966892382569184909710699732143890759680000000000\n",
      "f 18\n",
      "r 1998942137513404062886245328374792595178590033674240000000000\n",
      "f 17\n",
      "r 33982016337727869069066170582371474118036030572462080000000000\n",
      "f 16\n",
      "r 543712261403645905105058729317943585888576489159393280000000000\n",
      "f 15\n",
      "r 8155683921054688576575880939769153788328647337390899200000000000\n",
      "f 14\n",
      "r 114179574894765640072062333156768153036601062723472588800000000000\n",
      "f 13\n",
      "r 1484334473631953320936810331037985989475813815405143654400000000000\n",
      "f 12\n",
      "r 17812013683583439851241723972455831873709765784861723852800000000000\n",
      "f 11\n",
      "r 195932150519417838363658963697014150610807423633478962380800000000000\n",
      "f 10\n",
      "r 1959321505194178383636589636970141506108074236334789623808000000000000\n",
      "f 9\n",
      "r 17633893546747605452729306732731273554972668127013106614272000000000000\n",
      "f 8\n",
      "r 141071148373980843621834453861850188439781345016104852914176000000000000\n",
      "f 7\n",
      "r 987498038617865905352841177032951319078469415112733970399232000000000000\n",
      "f 6\n",
      "r 5924988231707195432117047062197707914470816490676403822395392000000000000\n",
      "f 5\n",
      "r 29624941158535977160585235310988539572354082453382019111976960000000000000\n",
      "f 4\n",
      "r 118499764634143908642340941243954158289416329813528076447907840000000000000\n",
      "f 3\n",
      "r 355499293902431725927022823731862474868248989440584229343723520000000000000\n",
      "f 2\n",
      "r 710998587804863451854045647463724949736497978881168458687447040000000000000\n",
      "f 1\n",
      "r 710998587804863451854045647463724949736497978881168458687447040000000000000\n",
      "f 0\n",
      "Factorial of 56 is: 710998587804863451854045647463724949736497978881168458687447040000000000000\n"
     ]
    }
   ],
   "source": [
    "# Factorial code\n",
    "\n",
    "n = int(input(\"Enter the number: \"))\n",
    "f =n\n",
    "r = 1\n",
    "# Loop until F is not equal to 0\n",
    "while f != 0 :\n",
    "    # Multiply each digit\n",
    "    r *= f \n",
    "    print(\"r\", r)\n",
    "    #Substract 1 from the number\n",
    "    f -= 1\n",
    "    print(\"f\", f)\n",
    "print(\"Factorial of\",n,\"is:\",r)"
   ]
  },
  {
   "cell_type": "markdown",
   "metadata": {},
   "source": [
    "Write a program to find the number if times the character \"n\" is in the string and the position number of each \"n\".\n",
    "For example in the following text \"Ninguno sabe nadar\".\n",
    "There are  4 n(s) and they are in the following positions  [0, 2, 5, 13]"
   ]
  },
  {
   "cell_type": "code",
   "execution_count": 2,
   "metadata": {},
   "outputs": [
    {
     "name": "stdout",
     "output_type": "stream",
     "text": [
      "The number of times that 'n' appears is:  7\n",
      "The positions where 'n' appears are:  [2, 5, 11, 40, 62, 73, 79]\n"
     ]
    }
   ],
   "source": [
    "# Find the number if time \"n\" in in the string\n",
    "texto = \"Pinpon es un muñeco muy guapo y de cartón se lava la carita con agua y con jabón\"\n",
    "count = 0 #count is a variable that where the number of times 'n' appears is saved\n",
    "position = [] #position is a list that saves the positions where 'n' is\n",
    "index = 0 #index is a variable that shows the index of 'n'\n",
    "for letter in texto: #for loop to check every letter in the string 'texto'\n",
    "    if letter == \"n\": #if command where everytime the letter 'n' is checked the following instruction is executed\n",
    "        count += 1 #everytime 'n' appears the variable 'count' adds one\n",
    "        position.append(index) #to append all the indices into the list 'position'\n",
    "    index += 1 #increase index by one\n",
    "        \n",
    "\n",
    "\n",
    "print (\"The number of times that 'n' appears is: \", count) #print the result of count\n",
    "print (\"The positions where 'n' appears are: \", position) #print the result of position\n",
    "\n",
    "        "
   ]
  },
  {
   "cell_type": "markdown",
   "metadata": {},
   "source": [
    "Write a code to reverse your full name, first names, last names.\n",
    "For example: If your name is \"Yaxkukul del Rocio Lopez-Portillo Arrigunaga\"\n",
    "The result should be: \"Arrigunaga Lopez-Portillo Rocio del Yaxkukul\""
   ]
  },
  {
   "cell_type": "code",
   "execution_count": 10,
   "metadata": {},
   "outputs": [],
   "source": [
    "# Write code to reverse your name\n",
    "nombre = \"Yaxkukul del Rocio Lopez-Portillo Arrigunaga\"\n"
   ]
  },
  {
   "cell_type": "markdown",
   "metadata": {},
   "source": [
    "Write a code to print all the names and grades of the students that passed. \n",
    "The passing grade will be 7.\n",
    "You will get a dictionary like this:\n",
    "dict_alumnos = {\"Pedro\":10,\"Juan\":9,\"José\":8,\"Beto\":5,\"Maria\":7,\"Julia\":6}\n",
    "The result should be: {'Pedro': 10, 'Juan': 9, 'José': 8, 'Maria': 7}"
   ]
  },
  {
   "cell_type": "code",
   "execution_count": 11,
   "metadata": {},
   "outputs": [],
   "source": [
    "#Code to print passing students\n",
    "dict_alumnos = {\"Pedro\":10,\"Juan\":9,\"José\":8,\"Beto\":5,\"Maria\":7,\"Julia\":6}\n",
    "\n",
    "        \n",
    "    "
   ]
  },
  {
   "cell_type": "markdown",
   "metadata": {},
   "source": [
    "Write a code to switch a dictionary keys and values and then sort them by number.\n",
    "For example:\n",
    "alumnos_id = {\"Pedro\":3,\"Juan\":6,\"José\":2,\"Beto\":5,\"Maria\":1,\"Julia\":4}\n",
    "It should get like this: {1: 'Maria', 2: 'José', 3: 'Pedro', 4: 'Julia', 5: 'Beto', 6: 'Juan'}"
   ]
  },
  {
   "cell_type": "code",
   "execution_count": 12,
   "metadata": {},
   "outputs": [],
   "source": [
    "#Code to invert keys and values in a dictionary\n",
    "alumnos_id = {\"Pedro\":3,\"Juan\":6,\"José\":2,\"Beto\":5,\"Maria\":1,\"Julia\":4}\n",
    "\n",
    "# Write a loop here to read the dictionary\n",
    "\n",
    "# Write a loop here to sort the dictionary\n",
    "\n",
    "        "
   ]
  }
 ],
 "metadata": {
  "kernelspec": {
   "display_name": "Python 3.10.5 64-bit (system)",
   "language": "python",
   "name": "python3"
  },
  "language_info": {
   "codemirror_mode": {
    "name": "ipython",
    "version": 3
   },
   "file_extension": ".py",
   "mimetype": "text/x-python",
   "name": "python",
   "nbconvert_exporter": "python",
   "pygments_lexer": "ipython3",
   "version": "3.10.5"
  },
  "orig_nbformat": 4,
  "vscode": {
   "interpreter": {
    "hash": "1008137c9f4849d5b92bd1af9c25f8df25401862cbdc70b91442f4a826b7c98e"
   }
  }
 },
 "nbformat": 4,
 "nbformat_minor": 2
}
