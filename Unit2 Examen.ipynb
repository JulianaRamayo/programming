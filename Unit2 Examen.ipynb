{
 "cells": [
  {
   "cell_type": "markdown",
   "metadata": {},
   "source": [
    "## Project UNIT 2.\n",
    "\n",
    "Using selective commands like IF, ELIF, ELSE.\n",
    "Iterations commands like FOR, WHILE. With their corresponding BREAK, Continue commands.\n",
    "Make sur to use loops and conditions. DO NOT use any other functions available in python.\n",
    "Like SORT, REVERSE, Etc.\n",
    "\n",
    "Make sure to use JUPYTER NOTEBOOK for Python in your editor of choice or install it in your python enviroment.\n",
    "https://jupyter.org/install\n",
    "Or you can use Google Colab.\n",
    "https://colab.research.google.com/?hl=es\n",
    "https://research.google.com/colaboratory/\n",
    "\n",
    "Follow the instructions.\n",
    "\n",
    "The califications will be simple. Get the programs to work. Write as much detail in the comments and explain what the code is doing. Use meaningful variables names.\n",
    "\n",
    "Write the following code for the following exercises.\n"
   ]
  },
  {
   "cell_type": "markdown",
   "metadata": {},
   "source": [
    "For example this code does the following:\n",
    "\n",
    "Reversing a number using while loop in Python"
   ]
  },
  {
   "cell_type": "code",
   "execution_count": 9,
   "metadata": {},
   "outputs": [
    {
     "name": "stdout",
     "output_type": "stream",
     "text": [
      "r 5\n",
      "rev 5\n",
      "n 1234\n",
      "r 4\n",
      "rev 54\n",
      "n 123\n",
      "r 3\n",
      "rev 543\n",
      "n 12\n",
      "r 2\n",
      "rev 5432\n",
      "n 1\n",
      "r 1\n",
      "rev 54321\n",
      "n 0\n",
      "Reversed number: 54321\n"
     ]
    }
   ],
   "source": [
    "# Code to reverse a number\n",
    "n = int(input(\"Enter a number: \"))\n",
    "rev = 0\n",
    "# Loop until n is not equal to 0\n",
    "while n!=0:\n",
    "    # Calculate the modulo\n",
    "    r = n%10\n",
    "    print(\"r\",r)\n",
    "    # New Reverse number\n",
    "    rev = rev * 10 + r\n",
    "    print(\"rev\", rev)\n",
    "    # Leftover number\n",
    "    n = n//10\n",
    "    print(\"n\", n)\n",
    "    \n",
    "print(\"Reversed number:\",rev)"
   ]
  },
  {
   "cell_type": "markdown",
   "metadata": {},
   "source": [
    "This other one does the following:\n",
    "\n",
    "Finding the factorial of a given number using while loop"
   ]
  },
  {
   "cell_type": "code",
   "execution_count": 1,
   "metadata": {},
   "outputs": [
    {
     "name": "stdout",
     "output_type": "stream",
     "text": [
      "r 8\n",
      "f 7\n",
      "r 56\n",
      "f 6\n",
      "r 336\n",
      "f 5\n",
      "r 1680\n",
      "f 4\n",
      "r 6720\n",
      "f 3\n",
      "r 20160\n",
      "f 2\n",
      "r 40320\n",
      "f 1\n",
      "r 40320\n",
      "f 0\n",
      "Factorial of 8 is: 40320\n"
     ]
    }
   ],
   "source": [
    "# Factorial code\n",
    "\n",
    "n = int(input(\"Enter the number: \"))\n",
    "f =n\n",
    "r = 1\n",
    "# Loop until F is not equal to 0\n",
    "while f != 0 :\n",
    "    # Multiply each digit\n",
    "    r *= f \n",
    "    print(\"r\", r)\n",
    "    #Substract 1 from the number\n",
    "    f -= 1\n",
    "    print(\"f\", f)\n",
    "print(\"Factorial of\",n,\"is:\",r)"
   ]
  },
  {
   "cell_type": "markdown",
   "metadata": {},
   "source": [
    "Write a program to find the number if times the character \"n\" is in the string and the position number of each \"n\".\n",
    "For example in the following text \"Ninguno sabe nadar\".\n",
    "There are  4 n(s) and they are in the following positions  [0, 2, 5, 13]"
   ]
  },
  {
   "cell_type": "code",
   "execution_count": 11,
   "metadata": {},
   "outputs": [
    {
     "name": "stdout",
     "output_type": "stream",
     "text": [
      "Pinpon es un muñeco muy guapo y de cartón se lava la carita con agua y con jabón\n",
      "The number of times that 'n' appears is:  7\n",
      "The positions where 'n' appears are:  [2, 5, 11, 40, 62, 73, 79]\n"
     ]
    }
   ],
   "source": [
    "# Find the number if time \"n\" in in the string\n",
    "texto = \"Pinpon es un muñeco muy guapo y de cartón se lava la carita con agua y con jabón\"\n",
    "count = 0 #count is a variable that where the number of times 'n' appears is saved\n",
    "position = [] #position is a list that saves the positions where 'n' is\n",
    "index = 0 #index is a variable that shows the index of 'n'\n",
    "for letter in texto: #for loop to check every letter in the string 'texto'\n",
    "    if letter == \"n\": #if command where everytime the letter 'n' is checked the following instruction is executed\n",
    "        count += 1 #everytime 'n' appears the variable 'count' adds one\n",
    "        position.append(index) #to append all the indices into the list 'position'\n",
    "    index += 1 #increase index by one\n",
    "        \n",
    "\n",
    "print(texto)\n",
    "print (\"The number of times that 'n' appears is: \", count) #print the result of count\n",
    "print (\"The positions where 'n' appears are: \", position) #print the result of position\n",
    "\n",
    "        "
   ]
  },
  {
   "cell_type": "markdown",
   "metadata": {},
   "source": [
    "Write a code to reverse your full name, first names, last names.\n",
    "For example: If your name is \"Yaxkukul del Rocio Lopez-Portillo Arrigunaga\"\n",
    "The result should be: \"Arrigunaga Lopez-Portillo Rocio del Yaxkukul\""
   ]
  },
  {
   "cell_type": "code",
   "execution_count": 12,
   "metadata": {},
   "outputs": [
    {
     "name": "stdout",
     "output_type": "stream",
     "text": [
      "Cardoso Ramayo Alejandra Juliana\n"
     ]
    }
   ],
   "source": [
    "# Write code to reverse your name\n",
    "nombre = str(input(\"Please enter your name: \")) #nombre variable declared\n",
    "nombre_split = nombre.split()[::-1] #create a new arrange with split function and reverse the words of nombre\n",
    "nombre_reversed = []\n",
    "for element in nombre_split: #loop to append all the reversed words in the nombre_reversed variable\n",
    "    nombre_reversed.append(element)\n",
    "#print the reverse name as a string\n",
    "print(\" \".join(nombre_reversed))"
   ]
  },
  {
   "cell_type": "markdown",
   "metadata": {},
   "source": [
    "Write a code to print all the names and grades of the students that passed. \n",
    "The passing grade will be 7.\n",
    "You will get a dictionary like this:\n",
    "dict_alumnos = {\"Pedro\":10,\"Juan\":9,\"José\":8,\"Beto\":5,\"Maria\":7,\"Julia\":6}\n",
    "The result should be: {'Pedro': 10, 'Juan': 9, 'José': 8, 'Maria': 7}"
   ]
  },
  {
   "cell_type": "code",
   "execution_count": 13,
   "metadata": {},
   "outputs": [
    {
     "name": "stdout",
     "output_type": "stream",
     "text": [
      "{'Pedro': 10, 'Juan': 9, 'José': 8, 'Beto': 5, 'Maria': 7, 'Julia': 6}\n",
      "{'Pedro': 10, 'Juan': 9, 'José': 8, 'Maria': 7}\n"
     ]
    }
   ],
   "source": [
    "#Code to print passing students\n",
    "dict_alumnos = {\"Pedro\":10,\"Juan\":9,\"José\":8,\"Beto\":5,\"Maria\":7,\"Julia\":6}\n",
    "print (dict_alumnos) #to print the dictionary as  give\n",
    "#comprehension used to rewrite a for loop in a single line of code inside the new list\n",
    "#for loop to check every value inside the key\n",
    "passed_alumnos = {key: value for key, value in dict_alumnos.items() if value > 6}\n",
    "#print the new list\n",
    "print (passed_alumnos)\n",
    "\n",
    "\n",
    "        \n",
    "    "
   ]
  },
  {
   "cell_type": "markdown",
   "metadata": {},
   "source": [
    "Write a code to switch a dictionary keys and values and then sort them by number.\n",
    "For example:\n",
    "alumnos_id = {\"Pedro\":3,\"Juan\":6,\"José\":2,\"Beto\":5,\"Maria\":1,\"Julia\":4}\n",
    "It should get like this: {1: 'Maria', 2: 'José', 3: 'Pedro', 4: 'Julia', 5: 'Beto', 6: 'Juan'}"
   ]
  },
  {
   "cell_type": "code",
   "execution_count": 14,
   "metadata": {},
   "outputs": [
    {
     "name": "stdout",
     "output_type": "stream",
     "text": [
      "{3: 'Pedro', 6: 'Juan', 2: 'José', 5: 'Beto', 1: 'Maria', 4: 'Julia'}\n",
      "[(1, 'Maria'), (2, 'José'), (3, 'Pedro'), (4, 'Julia'), (5, 'Beto'), (6, 'Juan')]\n"
     ]
    }
   ],
   "source": [
    "#Code to invert keys and values in a dictionary\n",
    "alumnos_id = {\"Pedro\":3,\"Juan\":6,\"José\":2,\"Beto\":5,\"Maria\":1,\"Julia\":4}\n",
    "\n",
    "# Write a loop here to read the dictionary\n",
    "alumnos_read = {value: key for key, value in alumnos_id.items()}\n",
    "print(alumnos_read)\n",
    "#creating a new dictionary to invert the keys and values using comprehension method\n",
    "#for loop to invert keys and values for every item in dictionary\n",
    "\n",
    "# Write a loop here to sort the dictionary\n",
    "alumnos_sort = [] #empty list\n",
    "lst_dict = list(alumnos_read.items()) #turning the dictionary into a list\n",
    "while lst_dict: #starting while loop\n",
    "    min_key = lst_dict[0]\n",
    "    for number in lst_dict: #loop to look for numbers in the list\n",
    "        if number < min_key: # operation to sort the numbers\n",
    "            min_key =  number #new smallest number\n",
    "    alumnos_sort.append(min_key) #fill the empty list\n",
    "    lst_dict.remove(min_key) #break the while loop\n",
    "print(alumnos_sort) #print the new list\n",
    "        "
   ]
  }
 ],
 "metadata": {
  "kernelspec": {
   "display_name": "Python 3.10.5 64-bit (system)",
   "language": "python",
   "name": "python3"
  },
  "language_info": {
   "codemirror_mode": {
    "name": "ipython",
    "version": 3
   },
   "file_extension": ".py",
   "mimetype": "text/x-python",
   "name": "python",
   "nbconvert_exporter": "python",
   "pygments_lexer": "ipython3",
   "version": "3.10.5"
  },
  "orig_nbformat": 4,
  "vscode": {
   "interpreter": {
    "hash": "1008137c9f4849d5b92bd1af9c25f8df25401862cbdc70b91442f4a826b7c98e"
   }
  }
 },
 "nbformat": 4,
 "nbformat_minor": 2
}
